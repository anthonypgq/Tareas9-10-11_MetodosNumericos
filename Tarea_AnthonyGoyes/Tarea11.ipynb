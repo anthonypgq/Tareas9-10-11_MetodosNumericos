{
 "cells": [
  {
   "cell_type": "raw",
   "metadata": {},
   "source": [
    "---\n",
    "title: \"Informe Tarea 11\"\n",
    "author: \"Anthony Goyes\"\n",
    "date: 2024 / 7 / 28\n",
    "lang: es\n",
    "format: \n",
    "  pdf:\n",
    "    toc: true\n",
    "    toc-title: \"Tabla de Contenidos\"  \n",
    "execute:\n",
    "  echo: true\n",
    "  error: false\n",
    "  warning: false\n",
    "jupyter: python3\n",
    "---"
   ]
  },
  {
   "cell_type": "markdown",
   "metadata": {
    "tags": []
   },
   "source": [
    "## Conjunto de ejercicios tarea 11"
   ]
  },
  {
   "cell_type": "markdown",
   "metadata": {
    "tags": []
   },
   "source": [
    "### 1. Encuentre las primeras dos iteraciones del método de Jacobi para los siguientes sistemas lineales, por medio de 𝐱^(𝟎)=0:"
   ]
  },
  {
   "cell_type": "markdown",
   "metadata": {
    "tags": []
   },
   "source": [
    "### Literal a\n",
    "$$3x_1 - x_2 + x_3 = -1$$\n",
    "\n",
    "$$3x_1 + 6x_2 + 2x_3 = 0$$\n",
    "\n",
    "$$3x_1 + 3x_2 + 7x_3 = 4$$"
   ]
  },
  {
   "cell_type": "code",
   "execution_count": 8,
   "metadata": {
    "tags": []
   },
   "outputs": [],
   "source": [
    "import numpy as np\n",
    "def gauss_jacobi(\n",
    "    A: np.array, b: np.array, x0: np.array, tol: float, max_iter: int\n",
    ") -> np.array:\n",
    "    # --- Validación de los argumentos de la función ---\n",
    "    if not isinstance(A, np.ndarray):\n",
    "        A = np.array(A, dtype=float)\n",
    "    assert A.shape[0] == A.shape[1], \"La matriz A debe ser de tamaño n-by-(n).\"\n",
    "\n",
    "    if not isinstance(b, np.ndarray):\n",
    "        b = np.array(b, dtype=float)\n",
    "    assert b.shape[0] == A.shape[0], \"El vector b debe ser de tamaño n.\"\n",
    "\n",
    "    if not isinstance(x0, np.ndarray):\n",
    "        x0 = np.array(x0, dtype=float)\n",
    "    assert x0.shape[0] == A.shape[0], \"El vector x0 debe ser de tamaño n.\"\n",
    "\n",
    "    # --- Algoritmo ---\n",
    "    n = A.shape[0]\n",
    "    x = x0.copy()\n",
    "    for k in range(1, max_iter):\n",
    "        x_new = np.zeros((n, 1))  # prealloc\n",
    "        for i in range(n):\n",
    "            suma = sum([A[i, j] * x[j] for j in range(n) if j != i])\n",
    "            x_new[i] = (b[i] - suma) / A[i, i]\n",
    "\n",
    "        if np.linalg.norm(x_new - x) < tol:\n",
    "            return x_new\n",
    "\n",
    "        x = x_new.copy()\n",
    "\n",
    "    return x\n"
   ]
  },
  {
   "cell_type": "code",
   "execution_count": 14,
   "metadata": {
    "tags": []
   },
   "outputs": [
    {
     "name": "stdout",
     "output_type": "stream",
     "text": [
      "[[ 0.0350863 ]\n",
      " [-0.23685698]\n",
      " [ 0.65787809]]\n"
     ]
    }
   ],
   "source": [
    "A = [\n",
    "    [3, -1, 1],\n",
    "    [3, 6, 2],\n",
    "    [3, 3, 7]\n",
    "]\n",
    "\n",
    "b = [1, 0, 4]\n",
    "\n",
    "x = gauss_jacobi(A, b, [0, 0, 0], 10e-5, 100)\n",
    "print(x)"
   ]
  },
  {
   "cell_type": "markdown",
   "metadata": {},
   "source": [
    "### Literal b\n",
    "\n",
    "$$10x_1 - x_2 = 9$$\n",
    "\n",
    "$$-x_1 + 10x_2 - 2x_3 = 7$$\n",
    "\n",
    "$$2x_2 + 10x_3 = 6$$"
   ]
  },
  {
   "cell_type": "code",
   "execution_count": 23,
   "metadata": {
    "tags": []
   },
   "outputs": [
    {
     "name": "stdout",
     "output_type": "stream",
     "text": [
      "[[0.99578625]\n",
      " [0.95788875]\n",
      " [0.7915725 ]]\n"
     ]
    }
   ],
   "source": [
    "A = [\n",
    "    [10, -1, 0],\n",
    "    [-1, 10, -2],\n",
    "    [0, -2, 10]\n",
    "]\n",
    "\n",
    "b = [9, 7, 6]\n",
    "\n",
    "x = gauss_jacobi(A, b, [0, 0, 0], 10e-5, 100)\n",
    "print(x)"
   ]
  },
  {
   "cell_type": "markdown",
   "metadata": {
    "tags": []
   },
   "source": [
    "### Literal c\n",
    "\n",
    "$$10x_1 + 5x_2 = 6$$\n",
    "\n",
    "$$5x_1 + 10x_2 -4x_3 = 25$$\n",
    "\n",
    "$$- 4x_2 + 8x_3 - x_4 = -11$$\n",
    "\n",
    "$$- x_3 + 5x_4 = -11$$"
   ]
  },
  {
   "cell_type": "code",
   "execution_count": 26,
   "metadata": {
    "tags": []
   },
   "outputs": [
    {
     "name": "stdout",
     "output_type": "stream",
     "text": [
      "[[-0.78792172]\n",
      " [ 2.77583088]\n",
      " [-0.29530611]\n",
      " [-2.25906474]]\n"
     ]
    }
   ],
   "source": [
    "A = [\n",
    "    [10, 5, 0, 0],\n",
    "    [5, 10, -4, 0],\n",
    "    [0, -4, -8, 1],\n",
    "    [0, 0, -1, 5]\n",
    "]\n",
    "\n",
    "b = [6, 25, -11, -11]\n",
    "\n",
    "x = gauss_jacobi(A, b, [0, 0, 0, 0], 10e-5, 100)\n",
    "print(x)"
   ]
  },
  {
   "cell_type": "markdown",
   "metadata": {},
   "source": [
    "### Literal d)\n",
    "\n",
    "$$4x_1 + x_2 + x_3 + x_5 = 6$$\n",
    "\n",
    "$$- x_1 - 3x_2 + x_3 + x_4 = 25$$\n",
    "\n",
    "$$2x_1 + x_2 + 5x_3 - x_4 - x_5 = 6$$\n",
    "\n",
    "$$- x_1 - x_ 2 - x_3 + 4x_4 = 6$$\n",
    "\n",
    "$$2x_2 - x_3 + x_4 +4x_5= 6$$"
   ]
  },
  {
   "cell_type": "code",
   "execution_count": 31,
   "metadata": {
    "tags": []
   },
   "outputs": [
    {
     "name": "stdout",
     "output_type": "stream",
     "text": [
      "[[ 0.78661584]\n",
      " [-1.00257369]\n",
      " [ 1.86634212]\n",
      " [ 1.91259293]\n",
      " [ 1.98974776]]\n"
     ]
    }
   ],
   "source": [
    "A = [\n",
    "    [4, 1, 1, 0, 1],\n",
    "    [-1, -3, 1, 1, 0],\n",
    "    [2, 1, 5, -1, -1],\n",
    "    [-1, -1, -1, 4, 0],\n",
    "    [0, 2, -1, 1, 4]\n",
    "]\n",
    "\n",
    "b = [6, 6, 6, 6, 6]\n",
    "\n",
    "x = gauss_jacobi(A, b, [0, 0, 0, 0, 0], 10e-5, 100)\n",
    "print(x)"
   ]
  },
  {
   "cell_type": "markdown",
   "metadata": {},
   "source": [
    "### 2. Repita el ejercicio 1 usando el método de Gauss-Siedel\n"
   ]
  },
  {
   "cell_type": "markdown",
   "metadata": {},
   "source": [
    "### Literal a\n",
    "\n",
    "$$3x_1 - x_2 + x_3 = -1$$\n",
    "\n",
    "$$3x_1 + 6x_2 + 2x_3 = 0$$\n",
    "\n",
    "$$3x_1 + 3x_2 + 7x_3 = 4$$"
   ]
  },
  {
   "cell_type": "code",
   "execution_count": 38,
   "metadata": {
    "tags": []
   },
   "outputs": [
    {
     "name": "stdout",
     "output_type": "stream",
     "text": [
      "[[ 0.03510326]\n",
      " [-0.23683891]\n",
      " [ 0.6578867 ]]\n"
     ]
    }
   ],
   "source": [
    "def gauss_seidel(\n",
    "    A: np.array, b: np.array, x0: np.array, tol: float, max_iter: int\n",
    ") -> np.array:\n",
    "    # --- Validación de los argumentos de la función ---\n",
    "    if not isinstance(A, np.ndarray):\n",
    "        A = np.array(A, dtype=float)\n",
    "    assert A.shape[0] == A.shape[1], \"La matriz A debe ser de tamaño n-by-(n).\"\n",
    "\n",
    "    if not isinstance(b, np.ndarray):\n",
    "        b = np.array(b, dtype=float)\n",
    "    assert b.shape[0] == A.shape[0], \"El vector b debe ser de tamaño n.\"\n",
    "\n",
    "    if not isinstance(x0, np.ndarray):\n",
    "        x0 = np.array(x0, dtype=float)\n",
    "    assert x0.shape[0] == A.shape[0], \"El vector x0 debe ser de tamaño n.\"\n",
    "\n",
    "    # --- Algoritmo ---\n",
    "    n = A.shape[0]\n",
    "    x = x0.copy()\n",
    "\n",
    "    for k in range(1, max_iter):\n",
    "        x_new = np.zeros((n, 1))  # prealloc\n",
    "        for i in range(n):\n",
    "            suma = sum([A[i, j] * x_new[j] for j in range(i) if j != i]) + sum(\n",
    "                [A[i, j] * x[j] for j in range(i, n) if j != i]\n",
    "            )\n",
    "            x_new[i] = (b[i] - suma) / A[i, i]\n",
    "\n",
    "        if np.linalg.norm(x_new - x) < tol:\n",
    "            return x_new\n",
    "\n",
    "        x = x_new.copy()\n",
    "\n",
    "    return x\n",
    "\n",
    "A = [\n",
    "    [3, -1, 1],\n",
    "    [3, 6, 2],\n",
    "    [3, 3, 7]\n",
    "]\n",
    "\n",
    "b = [1, 0, 4]\n",
    "\n",
    "x = gauss_seidel(A, b, [0, 0, 0], 10e-5, 100)\n",
    "print(x)\n"
   ]
  },
  {
   "cell_type": "markdown",
   "metadata": {
    "tags": []
   },
   "source": [
    "### Literal b\n",
    "\n",
    "$$10x_1 - x_2 = 9$$\n",
    "\n",
    "$$-x_1 + 10x_2 - 2x_3 = 7$$\n",
    "\n",
    "$$2x_2 + 10x_3 = 6$$"
   ]
  },
  {
   "cell_type": "code",
   "execution_count": 44,
   "metadata": {
    "tags": []
   },
   "outputs": [
    {
     "name": "stdout",
     "output_type": "stream",
     "text": [
      "[[0.99578737]\n",
      " [0.95789369]\n",
      " [0.79157874]]\n"
     ]
    }
   ],
   "source": [
    "A = [\n",
    "    [10, -1, 0],\n",
    "    [-1, 10, -2],\n",
    "    [0, -2, 10]\n",
    "]\n",
    "\n",
    "b = [9, 7, 6]\n",
    "\n",
    "x = gauss_seidel(A, b, [0, 0, 0], 10e-5, 100)\n",
    "print(x)"
   ]
  },
  {
   "cell_type": "markdown",
   "metadata": {
    "tags": []
   },
   "source": [
    "### Literal c\n",
    "\n",
    "$$10x_1 + 5x_2 = 6$$\n",
    "\n",
    "$$5x_1 + 10x_2 -4x_3 = 25$$\n",
    "\n",
    "$$- 4x_2 + 8x_3 - x_4 = -11$$\n",
    "\n",
    "$$- x_3 + 5x_4 = -11$$"
   ]
  },
  {
   "cell_type": "code",
   "execution_count": 52,
   "metadata": {
    "tags": []
   },
   "outputs": [
    {
     "name": "stdout",
     "output_type": "stream",
     "text": [
      "[[-0.78791707]\n",
      " [ 2.77583885]\n",
      " [-0.29530191]\n",
      " [-2.25906038]]\n"
     ]
    }
   ],
   "source": [
    "A = [\n",
    "    [10, 5, 0, 0],\n",
    "    [5, 10, -4, 0],\n",
    "    [0, -4, -8, 1],\n",
    "    [0, 0, -1, 5]\n",
    "]\n",
    "\n",
    "b = [6, 25, -11, -11]\n",
    "\n",
    "x = gauss_seidel(A, b, [0, 0, 0, 0], 10e-5, 100)\n",
    "print(x)"
   ]
  },
  {
   "cell_type": "markdown",
   "metadata": {},
   "source": [
    "### Literal d\n",
    "\n",
    "$$4x_1 + x_2 + x_3 + x_5 = 6$$\n",
    "\n",
    "$$- x_1 - 3x_2 + x_3 + x_4 = 25$$\n",
    "\n",
    "$$2x_1 + x_2 + 5x_3 - x_4 - x_5 = 6$$\n",
    "\n",
    "$$- x_1 - x_ 2 - x_3 + 4x_4 = 6$$\n",
    "\n",
    "$$2x_2 - x_3 + x_4 +4x_5= 6$$"
   ]
  },
  {
   "cell_type": "code",
   "execution_count": 54,
   "metadata": {
    "tags": []
   },
   "outputs": [
    {
     "name": "stdout",
     "output_type": "stream",
     "text": [
      "[[ 0.78663577]\n",
      " [-1.00257108]\n",
      " [ 1.86632614]\n",
      " [ 1.91259771]\n",
      " [ 1.98971765]]\n"
     ]
    }
   ],
   "source": [
    "\n",
    "A = [\n",
    "    [4, 1, 1, 0, 1],\n",
    "    [-1, -3, 1, 1, 0],\n",
    "    [2, 1, 5, -1, -1],\n",
    "    [-1, -1, -1, 4, 0],\n",
    "    [0, 2, -1, 1, 4]\n",
    "]\n",
    "\n",
    "b = [6, 6, 6, 6, 6]\n",
    "\n",
    "x = gauss_seidel(A, b, [0, 0, 0, 0, 0], 10e-5, 100)\n",
    "print(x)"
   ]
  },
  {
   "cell_type": "markdown",
   "metadata": {},
   "source": [
    "### 3. Utilice el método de Jacobi para resolver los sistemas lineales en el ejercicio 1, con TOL = 10^{-3}."
   ]
  },
  {
   "cell_type": "markdown",
   "metadata": {},
   "source": [
    "### Literal a"
   ]
  },
  {
   "cell_type": "code",
   "execution_count": 59,
   "metadata": {
    "tags": []
   },
   "outputs": [
    {
     "name": "stdout",
     "output_type": "stream",
     "text": [
      "[[ 0.03516089]\n",
      " [-0.23570619]\n",
      " [ 0.65922185]]\n"
     ]
    }
   ],
   "source": [
    "\n",
    "A = [\n",
    "    [3, -1, 1],\n",
    "    [3, 6, 2],\n",
    "    [3, 3, 7]\n",
    "]\n",
    "\n",
    "b = [1, 0, 4]\n",
    "\n",
    "x = gauss_jacobi(A, b, [0, 0, 0], 10e-3, 100)\n",
    "print(x)"
   ]
  },
  {
   "cell_type": "markdown",
   "metadata": {},
   "source": [
    "### Literal b"
   ]
  },
  {
   "cell_type": "code",
   "execution_count": 62,
   "metadata": {
    "tags": []
   },
   "outputs": [
    {
     "name": "stdout",
     "output_type": "stream",
     "text": [
      "[[0.91603]\n",
      " [0.94913]\n",
      " [0.78962]]\n"
     ]
    }
   ],
   "source": [
    "\n",
    "A = [\n",
    "    [10, -1, 1],\n",
    "    [-1, 10, -2],\n",
    "    [0, -2, 10]\n",
    "]\n",
    "\n",
    "b = [9, 7, 6]\n",
    "\n",
    "x = gauss_jacobi(A, b, [0, 0, 0], 10e-3, 100)\n",
    "print(x)\n"
   ]
  },
  {
   "cell_type": "markdown",
   "metadata": {},
   "source": [
    "### Literal c\n"
   ]
  },
  {
   "cell_type": "code",
   "execution_count": 65,
   "metadata": {
    "tags": []
   },
   "outputs": [
    {
     "name": "stdout",
     "output_type": "stream",
     "text": [
      "[[-0.788375  ]\n",
      " [ 2.77715625]\n",
      " [-0.29553125]\n",
      " [-2.26032813]]\n"
     ]
    }
   ],
   "source": [
    "\n",
    "A = [\n",
    "    [10, 5, 0, 0],\n",
    "    [5, 10, -4, 0],\n",
    "    [0, -4, -8, 1],\n",
    "    [0, 0, -1, 5]\n",
    "]\n",
    "\n",
    "b = [6, 25, -11, -11]\n",
    "\n",
    "x = gauss_jacobi(A, b, [0, 0, 0, 0], 10e-3, 100)\n",
    "print(x)\n"
   ]
  },
  {
   "cell_type": "markdown",
   "metadata": {},
   "source": [
    "### Literal d"
   ]
  },
  {
   "cell_type": "code",
   "execution_count": 68,
   "metadata": {
    "tags": []
   },
   "outputs": [
    {
     "name": "stdout",
     "output_type": "stream",
     "text": [
      "[[ 0.78718101]\n",
      " [-1.00174151]\n",
      " [ 1.8658388 ]\n",
      " [ 1.91274157]\n",
      " [ 1.98672138]]\n"
     ]
    }
   ],
   "source": [
    "A = [\n",
    "    [4, 1, 1, 0, 1],\n",
    "    [-1, -3, 1, 1, 0],\n",
    "    [2, 1, 5, -1, -1],\n",
    "    [-1, -1, -1, 4, 0],\n",
    "    [0, 2, -1, 1, 4]\n",
    "]\n",
    "\n",
    "b = [6, 6, 6, 6, 6]\n",
    "\n",
    "x = gauss_jacobi(A, b, [0, 0, 0, 0, 0], 10e-3, 100)\n",
    "print(x)"
   ]
  },
  {
   "cell_type": "markdown",
   "metadata": {},
   "source": [
    "### 4. Utilice el método de Gauss-Siedel para resolver los sistemas lineales en el ejercicio 1, con TOL = 10-3.\n"
   ]
  },
  {
   "cell_type": "markdown",
   "metadata": {},
   "source": [
    "### Literal a"
   ]
  },
  {
   "cell_type": "code",
   "execution_count": 72,
   "metadata": {
    "tags": []
   },
   "outputs": [
    {
     "name": "stdout",
     "output_type": "stream",
     "text": [
      "[[ 0.0361492 ]\n",
      " [-0.23660752]\n",
      " [ 0.65733928]]\n"
     ]
    }
   ],
   "source": [
    "\n",
    "A = [\n",
    "    [3, -1, 1],\n",
    "    [3, 6, 2],\n",
    "    [3, 3, 7]\n",
    "]\n",
    "\n",
    "b = [1, 0, 4]\n",
    "\n",
    "x = gauss_seidel(A, b, [0, 0, 0], 10e-3, 100)\n",
    "print(x)"
   ]
  },
  {
   "cell_type": "markdown",
   "metadata": {
    "tags": []
   },
   "source": [
    "### Literal b"
   ]
  },
  {
   "cell_type": "code",
   "execution_count": 74,
   "metadata": {
    "tags": []
   },
   "outputs": [
    {
     "name": "stdout",
     "output_type": "stream",
     "text": [
      "[[0.91593697]\n",
      " [0.94956218]\n",
      " [0.78991244]]\n"
     ]
    }
   ],
   "source": [
    "A = [\n",
    "    [10, -1, 1],\n",
    "    [-1, 10, -2],\n",
    "    [0, -2, 10]\n",
    "]\n",
    "\n",
    "b = [9, 7, 6]\n",
    "\n",
    "x = gauss_seidel(A, b, [0, 0, 0], 10e-3, 100)\n",
    "print(x)"
   ]
  },
  {
   "cell_type": "markdown",
   "metadata": {
    "tags": []
   },
   "source": [
    "### Literal c"
   ]
  },
  {
   "cell_type": "code",
   "execution_count": 78,
   "metadata": {
    "tags": []
   },
   "outputs": [
    {
     "name": "stdout",
     "output_type": "stream",
     "text": [
      "[[-0.78802812]\n",
      " [ 2.77579328]\n",
      " [-0.29528544]\n",
      " [-2.25905709]]\n"
     ]
    }
   ],
   "source": [
    "A = [\n",
    "    [10, 5, 0, 0],\n",
    "    [5, 10, -4, 0],\n",
    "    [0, -4, -8, 1],\n",
    "    [0, 0, -1, 5]\n",
    "]\n",
    "\n",
    "b = [6, 25, -11, -11]\n",
    "\n",
    "x = gauss_seidel(A, b, [0, 0, 0, 0], 10e-3, 100)\n",
    "print(x)"
   ]
  },
  {
   "cell_type": "markdown",
   "metadata": {},
   "source": [
    "### Literal d"
   ]
  },
  {
   "cell_type": "code",
   "execution_count": 80,
   "metadata": {
    "tags": []
   },
   "outputs": [
    {
     "name": "stdout",
     "output_type": "stream",
     "text": [
      "[[ 0.78616258]\n",
      " [-1.00240703]\n",
      " [ 1.86606999]\n",
      " [ 1.91245638]\n",
      " [ 1.98960692]]\n"
     ]
    }
   ],
   "source": [
    "A = [\n",
    "    [4, 1, 1, 0, 1],\n",
    "    [-1, -3, 1, 1, 0],\n",
    "    [2, 1, 5, -1, -1],\n",
    "    [-1, -1, -1, 4, 0],\n",
    "    [0, 2, -1, 1, 4]\n",
    "]\n",
    "\n",
    "b = [6, 6, 6, 6, 6]\n",
    "\n",
    "x = gauss_seidel(A, b, [0, 0, 0, 0, 0], 10e-3, 100)\n",
    "print(x)"
   ]
  },
  {
   "cell_type": "markdown",
   "metadata": {},
   "source": [
    "### 5. El sistema lineal:\n",
    "\n",
    "$$2x_1 - x_2 + x_3 = -1$$\n",
    "\n",
    "$$2x_1 + 2x_2 - 2x_3 = 4$$\n",
    "\n",
    "$$- x_1 - x_2 + 2x_3 = -5$$\n",
    "\n",
    "tiene la solución (1, 2, -1).\n",
    "### a) Muestre que el método de Jacobi con x(0) = 0 falla al proporcionar una buena aproximación después de 25 iteraciones.\n"
   ]
  },
  {
   "cell_type": "code",
   "execution_count": 91,
   "metadata": {
    "tags": []
   },
   "outputs": [
    {
     "name": "stdout",
     "output_type": "stream",
     "text": [
      "[[ -7.73114914]\n",
      " [-32.92459655]\n",
      " [  7.73114914]]\n"
     ]
    }
   ],
   "source": [
    "\n",
    "A = [\n",
    "    [2, -1, 1],\n",
    "    [2, 2, 2],\n",
    "    [-1, -1, 2]\n",
    "]\n",
    "\n",
    "b = [-1, 4, -5]\n",
    "\n",
    "x = gauss_jacobi(A, b, [0, 0, 0], 10e-5, 25)\n",
    "print(x)\n",
    "\n"
   ]
  },
  {
   "cell_type": "markdown",
   "metadata": {},
   "source": [
    "### b) Utilice el método de Gauss-Siedel con x(0) = 0:para aproximar la solución para el sistema lineal dentro de 10−5."
   ]
  },
  {
   "cell_type": "code",
   "execution_count": 95,
   "metadata": {
    "tags": []
   },
   "outputs": [
    {
     "name": "stdout",
     "output_type": "stream",
     "text": [
      "[[ 0.99998474]\n",
      " [ 2.00001717]\n",
      " [-0.99999905]]\n"
     ]
    }
   ],
   "source": [
    "\n",
    "A = [\n",
    "    [2, -1, 1],\n",
    "    [2, 2, 2],\n",
    "    [-1, -1, 2]\n",
    "]\n",
    "\n",
    "b = [-1, 4, -5]\n",
    "\n",
    "x = gauss_seidel(A, b, [0, 0, 0], 10e-5, 25)\n",
    "print(x)"
   ]
  },
  {
   "cell_type": "markdown",
   "metadata": {},
   "source": [
    "### 6. El sistema lineal\n",
    "\n",
    "$$x_1 - x_3 = 0.2$$\n",
    "\n",
    "$$-\\frac{1}{2}x_1 + x_2 - \\frac{1}{4}x_3 = -1.425$$\n",
    "\n",
    "$$x_1 - \\frac{1}{2}x_2 + 5x_3 = 2$$\n",
    "\n",
    "### tiene la solución (0.9, -0.8, 0.7).\n",
    "\n",
    "### a) ¿La matriz de coeficientes\n",
    "$$A = \\begin{pmatrix} 1 & 0 & -1 \\\\ -\\frac{1}{2} & 1 & -\\frac{1}{4} \\\\ 1 & -\\frac{1}{2} & 1 \\end{pmatrix}$$\n",
    "### tiene diagonal estrictamente dominante?"
   ]
  },
  {
   "cell_type": "code",
   "execution_count": 1,
   "metadata": {
    "tags": []
   },
   "outputs": [
    {
     "name": "stdout",
     "output_type": "stream",
     "text": [
      "La matriz A es estrictamente diagonalmente dominante: False\n"
     ]
    }
   ],
   "source": [
    "import numpy as np\n",
    "\n",
    "def is_strictly_diagonally_dominant(matrix):\n",
    "    \"\"\"\n",
    "    Verifica si una matriz es estrictamente diagonalmente dominante.\n",
    "    :param matrix: Matriz cuadrada\n",
    "    :return: True si la matriz es estrictamente diagonalmente dominante, False en caso contrario\n",
    "    \"\"\"\n",
    "    n = matrix.shape[0]\n",
    "    for i in range(n):\n",
    "        # Valor absoluto del elemento diagonal\n",
    "        diag_element = abs(matrix[i, i])\n",
    "        \n",
    "        # Suma de los valores absolutos de los elementos no diagonales en la fila i\n",
    "        off_diag_sum = np.sum(np.abs(matrix[i, :])) - diag_element\n",
    "        \n",
    "        # Verificación de la condición de diagonal estrictamente dominante\n",
    "        if diag_element <= off_diag_sum:\n",
    "            return False\n",
    "    return True\n",
    "\n",
    "# Matriz de coeficientes\n",
    "A = np.array([\n",
    "    [1, 0, -1],\n",
    "    [-0.5, 1, -0.25],\n",
    "    [1, -0.5, 1]\n",
    "], dtype=np.float32)\n",
    "\n",
    "# Verificar si la matriz A es estrictamente diagonalmente dominante\n",
    "resultado = is_strictly_diagonally_dominant(A)\n",
    "print(\"La matriz A es estrictamente diagonalmente dominante:\", resultado)\n"
   ]
  },
  {
   "cell_type": "markdown",
   "metadata": {},
   "source": [
    "### b) Utilice el método iterativo de Gauss-Siedel para aproximar la solución para el sistema lineal con una tolerancia de 10^22 y un máximo de 300 iteraciones."
   ]
  },
  {
   "cell_type": "code",
   "execution_count": 44,
   "metadata": {
    "tags": []
   },
   "outputs": [
    {
     "name": "stdout",
     "output_type": "stream",
     "text": [
      "La solución aproximada es: [ 0.2       -1.3249999  1.1375   ]\n"
     ]
    }
   ],
   "source": [
    "import numpy as np\n",
    "\n",
    "def gauss_seidel(A: np.array, b: np.array, x0: np.array, tol: float, \n",
    "                 max_iter: int) -> np.array:\n",
    "    # --- Validación de los argumentos de la función ---\n",
    "    if not isinstance(A, np.ndarray):\n",
    "        A = np.array(A, dtype=float)\n",
    "    assert A.shape[0] == A.shape[1], \"La matriz A debe ser de tamaño n-by-(n).\"\n",
    "\n",
    "    if not isinstance(b, np.ndarray):\n",
    "        b = np.array(b, dtype=float)\n",
    "    assert b.shape[0] == A.shape[0], \"El vector b debe ser de tamaño n.\"\n",
    "\n",
    "    if not isinstance(x0, np.ndarray):\n",
    "        x0 = np.array(x0, dtype=float)\n",
    "    assert x0.shape[0] == A.shape[0], \"El vector x0 debe ser de tamaño n.\"\n",
    "\n",
    "    # --- Algoritmo ---\n",
    "    n = A.shape[0]\n",
    "    x = x0.copy()\n",
    "\n",
    "    for k in range(1, max_iter):\n",
    "        x_new = np.zeros((n,), dtype=np.float32)  # prealloc\n",
    "        for i in range(n):\n",
    "            suma = sum([A[i, j] * x_new[j] for j in range(i) if j != i]) + sum(\n",
    "                [A[i, j] * x[j] for j in range(i, n) if j != i]\n",
    "            )\n",
    "            x_new[i] = (b[i] - suma) / A[i, i]\n",
    "\n",
    "        if np.linalg.norm(x_new - x) < tol:\n",
    "            return x_new\n",
    "\n",
    "        x = x_new.copy()\n",
    "\n",
    "    return x\n",
    "\n",
    "# Datos del sistema\n",
    "A = np.array([\n",
    "    [1, 0, -1],\n",
    "    [-0.5, 1, -0.25],\n",
    "    [1, -0.5, 1]\n",
    "], dtype=np.float32)\n",
    "\n",
    "b = np.array([0.2, -1.425, 2], dtype=np.float32)\n",
    "x0 = np.zeros_like(b, dtype=np.float32)\n",
    "tol = 1e22\n",
    "max_iter = 300\n",
    "\n",
    "# Resolver el sistema usando el método de Gauss-Seidel\n",
    "solucion = gauss_seidel(A, b, x0, tol, max_iter)\n",
    "\n",
    "print(\"La solución aproximada es:\", solucion)\n"
   ]
  },
  {
   "cell_type": "markdown",
   "metadata": {
    "tags": []
   },
   "source": [
    "### c) . ¿Qué pasa en la parte b) cuando el sistema cambia por el siguiente?\n"
   ]
  },
  {
   "cell_type": "code",
   "execution_count": 46,
   "metadata": {
    "tags": []
   },
   "outputs": [
    {
     "name": "stdout",
     "output_type": "stream",
     "text": [
      "La solución aproximada es: [ 0.2       -1.3249999  1.1375   ]\n"
     ]
    }
   ],
   "source": [
    "import numpy as np\n",
    "def gauss_seidel(A: np.array, b: np.array, x0: np.array, tol: float, \n",
    "                 max_iter: int) -> np.array:\n",
    "    # --- Validación de los argumentos de la función ---\n",
    "    if not isinstance(A, np.ndarray):\n",
    "        A = np.array(A, dtype=float)\n",
    "    assert A.shape[0] == A.shape[1], \"La matriz A debe ser de tamaño n-by-(n).\"\n",
    "\n",
    "    if not isinstance(b, np.ndarray):\n",
    "        b = np.array(b, dtype=float)\n",
    "    assert b.shape[0] == A.shape[0], \"El vector b debe ser de tamaño n.\"\n",
    "\n",
    "    if not isinstance(x0, np.ndarray):\n",
    "        x0 = np.array(x0, dtype=float)\n",
    "    assert x0.shape[0] == A.shape[0], \"El vector x0 debe ser de tamaño n.\"\n",
    "\n",
    "    # --- Algoritmo ---\n",
    "    n = A.shape[0]\n",
    "    x = x0.copy()\n",
    "\n",
    "    for k in range(1, max_iter):\n",
    "        x_new = np.zeros((n,), dtype=np.float32)  # prealloc\n",
    "        for i in range(n):\n",
    "            suma = sum([A[i, j] * x_new[j] for j in range(i) if j != i]) + sum(\n",
    "                [A[i, j] * x[j] for j in range(i, n) if j != i]\n",
    "            )\n",
    "            x_new[i] = (b[i] - suma) / A[i, i]\n",
    "\n",
    "        if np.linalg.norm(x_new - x) < tol:\n",
    "            return x_new\n",
    "\n",
    "        x = x_new.copy()\n",
    "\n",
    "    return x\n",
    "\n",
    "# Datos del sistema\n",
    "A = np.array([\n",
    "    [1, 0, -2],\n",
    "    [-0.5, 1, -0.25],\n",
    "    [1, -0.5, 1]\n",
    "], dtype=np.float32)\n",
    "\n",
    "b = np.array([0.2, -1.425, 2], dtype=np.float32)\n",
    "x0 = np.zeros_like(b, dtype=np.float32)\n",
    "tol = 1e22\n",
    "max_iter = 300\n",
    "\n",
    "# Resolver el sistema usando el método de Gauss-Seidel\n",
    "solucion = gauss_seidel(A, b, x0, tol, max_iter)\n",
    "\n",
    "print(\"La solución aproximada es:\", solucion)\n"
   ]
  },
  {
   "cell_type": "markdown",
   "metadata": {},
   "source": [
    "Se puede observar que el resultado no cambió en comparación al literal b."
   ]
  },
  {
   "cell_type": "markdown",
   "metadata": {},
   "source": [
    "### 7. Repita el ejercicio 11 usando el método de Jacobi."
   ]
  },
  {
   "cell_type": "markdown",
   "metadata": {},
   "source": [
    "No encontré ningún ejercicio 11."
   ]
  },
  {
   "cell_type": "markdown",
   "metadata": {},
   "source": [
    "### 8. Un cable coaxial está formado por un conductor interno de 0.1 pulgadas cuadradas y un conductor externo de 0.5 pulgadas cuadradas. El potencial en un punto en la sección transversal del cable se describe mediante la ecuación de Laplace.\n",
    "\n",
    "![Matriz](Matriz.png)\n",
    "\n",
    "#### Suponga que el conductor interno se mantiene en 0 volts y el conductor externo se mantiene en 110 volts. Aproximar el potencial entre los dos conductores requiere resolver el siguiente sistema lineal.\n"
   ]
  },
  {
   "cell_type": "markdown",
   "metadata": {
    "tags": []
   },
   "source": [
    "### a. ¿La matriz es estrictamente diagonalmente dominante?"
   ]
  },
  {
   "cell_type": "markdown",
   "metadata": {},
   "source": [
    "Cada elemento en la diagonal es 4, y la suma de los valores absolutos de los elementos no diagonales en cualquier fila es siempre 2. Esto implica que la matriz es estrictamente diagonalmente dominante."
   ]
  },
  {
   "cell_type": "markdown",
   "metadata": {
    "tags": []
   },
   "source": [
    "### b. Resuelva el sistema lineal usando el método de Jacobi con x(0) = 0 y TOL = 10-2."
   ]
  },
  {
   "cell_type": "code",
   "execution_count": 38,
   "metadata": {
    "tags": []
   },
   "outputs": [
    {
     "name": "stdout",
     "output_type": "stream",
     "text": [
      "[[87.98209548]\n",
      " [65.98209679]\n",
      " [65.98209679]\n",
      " [87.98209548]\n",
      " [65.98209679]\n",
      " [65.98209679]\n",
      " [65.98209679]\n",
      " [65.98209679]\n",
      " [87.98209548]\n",
      " [65.98209679]\n",
      " [65.98209679]\n",
      " [87.98209548]]\n"
     ]
    }
   ],
   "source": [
    "A = [\n",
    "    [4, -1, 0, 0, -1, 0, 0, 0, 0, 0, 0, 0],\n",
    "    [-1, 4, -1, 0, 0, 0, 0, 0, 0, 0, 0, 0],\n",
    "    [0, -1, 4, -1, 0, 0, 0, 0, 0, 0, 0, 0],\n",
    "    [0, 0, -1, 4, 0, -1, 0, 0, 0, 0, 0, 0],\n",
    "    [-1, 0, 0, 0, 4, 0, -1, 0, 0, 0, 0, 0],\n",
    "    [0, 0, 0, -1, 0, 4, 0, -1, 0, 0, 0, 0],\n",
    "    [0, 0, 0, 0, -1, 0, 4, 0, -1, 0, 0, 0],\n",
    "    [0, 0, 0, 0, 0, -1, 0, 4, 0, 0, 0, -1],\n",
    "    [0, 0, 0, 0, 0, 0, -1, 0, 4, -1, 0, 0],\n",
    "    [0, 0, 0, 0, 0, 0, 0, 0, -1, 4, -1, 0],\n",
    "    [0, 0, 0, 0, 0, 0, 0, 0, 0, -1, 4, -1],\n",
    "    [0, 0, 0, 0, 0, -1, 0, 0, 0, 0, -1, 4]\n",
    "]\n",
    "\n",
    "b = [220, 110, 110, 220, 110, 110, 110, 110, 220, 110, 110, 220]\n",
    "\n",
    "x = gauss_jacobi(A, b, [0, 0, 0, 0, 0, 0, 0, 0, 0, 0, 0, 0], 10e-2, 100)\n",
    "print(x)"
   ]
  },
  {
   "cell_type": "markdown",
   "metadata": {},
   "source": [
    "### c. Repita la parte b) mediante el método de Gauss-Siedel."
   ]
  },
  {
   "cell_type": "code",
   "execution_count": 40,
   "metadata": {
    "tags": []
   },
   "outputs": [
    {
     "name": "stdout",
     "output_type": "stream",
     "text": [
      "[87.98218  65.98985  65.99376  87.99604  65.98985  65.997475 65.99376\n",
      " 65.99838  87.99604  65.997475 65.99838  87.99896 ]\n"
     ]
    }
   ],
   "source": [
    "A = [\n",
    "    [4, -1, 0, 0, -1, 0, 0, 0, 0, 0, 0, 0],\n",
    "    [-1, 4, -1, 0, 0, 0, 0, 0, 0, 0, 0, 0],\n",
    "    [0, -1, 4, -1, 0, 0, 0, 0, 0, 0, 0, 0],\n",
    "    [0, 0, -1, 4, 0, -1, 0, 0, 0, 0, 0, 0],\n",
    "    [-1, 0, 0, 0, 4, 0, -1, 0, 0, 0, 0, 0],\n",
    "    [0, 0, 0, -1, 0, 4, 0, -1, 0, 0, 0, 0],\n",
    "    [0, 0, 0, 0, -1, 0, 4, 0, -1, 0, 0, 0],\n",
    "    [0, 0, 0, 0, 0, -1, 0, 4, 0, 0, 0, -1],\n",
    "    [0, 0, 0, 0, 0, 0, -1, 0, 4, -1, 0, 0],\n",
    "    [0, 0, 0, 0, 0, 0, 0, 0, -1, 4, -1, 0],\n",
    "    [0, 0, 0, 0, 0, 0, 0, 0, 0, -1, 4, -1],\n",
    "    [0, 0, 0, 0, 0, -1, 0, 0, 0, 0, -1, 4]\n",
    "]\n",
    "\n",
    "b = [220, 110, 110, 220, 110, 110, 110, 110, 220, 110, 110, 220]\n",
    "\n",
    "x = gauss_seidel(A, b, [0, 0, 0, 0, 0, 0, 0, 0, 0, 0, 0, 0], 10e-2, 100)\n",
    "print(x)"
   ]
  },
  {
   "cell_type": "markdown",
   "metadata": {},
   "source": [
    "### Enlace al repositorio de github\n",
    "\n",
    "https://github.com/anthonypgq/Tareas9-10-11_MetodosNumericos"
   ]
  },
  {
   "cell_type": "code",
   "execution_count": null,
   "metadata": {},
   "outputs": [],
   "source": []
  }
 ],
 "metadata": {
  "kernelspec": {
   "display_name": "Python 3 (ipykernel)",
   "language": "python",
   "name": "python3"
  },
  "language_info": {
   "codemirror_mode": {
    "name": "ipython",
    "version": 3
   },
   "file_extension": ".py",
   "mimetype": "text/x-python",
   "name": "python",
   "nbconvert_exporter": "python",
   "pygments_lexer": "ipython3",
   "version": "3.12.3"
  }
 },
 "nbformat": 4,
 "nbformat_minor": 4
}
